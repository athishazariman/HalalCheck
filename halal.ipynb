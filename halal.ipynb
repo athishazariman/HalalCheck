{
 "cells": [
  {
   "cell_type": "code",
   "execution_count": 13,
   "metadata": {},
   "outputs": [
    {
     "name": "stdout",
     "output_type": "stream",
     "text": [
      "              precision    recall  f1-score   support\n",
      "\n",
      "           0       0.98      0.99      0.99     58501\n",
      "           1       0.99      0.97      0.98     47118\n",
      "\n",
      "    accuracy                           0.98    105619\n",
      "   macro avg       0.99      0.98      0.98    105619\n",
      "weighted avg       0.98      0.98      0.98    105619\n",
      "\n"
     ]
    }
   ],
   "source": [
    "import pandas as pd\n",
    "from sklearn.model_selection import train_test_split\n",
    "from sklearn.feature_extraction.text import TfidfVectorizer\n",
    "from sklearn.linear_model import LogisticRegression\n",
    "from sklearn.metrics import classification_report\n",
    "import pytesseract\n",
    "import cv2\n",
    "import re\n",
    "\n",
    "# Step 1: Load and Prepare Dataset\n",
    "df = pd.read_csv('haram_data.csv')  # Replace with your dataset path\n",
    "df = df.dropna(subset=['text', 'label'])  # Drop rows with missing values\n",
    "df['label'] = df['label'].map({'halal': 0, 'haram': 1})  # Map labels to 0 (halal) and 1 (haram)\n",
    "\n",
    "# Step 2: Train-Test Split\n",
    "X = df['text']\n",
    "y = df['label']\n",
    "X_train, X_test, y_train, y_test = train_test_split(X, y, test_size=0.2, random_state=42)\n",
    "\n",
    "# Step 3: Vectorize Text Data\n",
    "vectorizer = TfidfVectorizer(stop_words='english', max_features=5000)\n",
    "X_train_tfidf = vectorizer.fit_transform(X_train)\n",
    "X_test_tfidf = vectorizer.transform(X_test)\n",
    "\n",
    "# Step 4: Train the Model\n",
    "model = LogisticRegression()\n",
    "model.fit(X_train_tfidf, y_train)\n",
    "\n",
    "# Step 5: Evaluate the Model\n",
    "y_pred = model.predict(X_test_tfidf)\n",
    "print(classification_report(y_test, y_pred))\n"
   ]
  },
  {
   "cell_type": "code",
   "execution_count": 14,
   "metadata": {},
   "outputs": [],
   "source": [
    "# Step 6: Define Function to Classify Ingredients from Text\n",
    "def classify_ingredients(text):\n",
    "    ingredients = re.split(r'[,\\n]', text)  # Split by commas or new lines\n",
    "    results = []\n",
    "    for ingredient in ingredients:\n",
    "        ingredient_cleaned = ingredient.strip().lower()\n",
    "        if ingredient_cleaned:\n",
    "            vectorized_ingredient = vectorizer.transform([ingredient_cleaned])\n",
    "            prediction = model.predict(vectorized_ingredient)\n",
    "            results.append((ingredient_cleaned, 'Haram' if prediction[0] == 1 else 'Halal'))\n",
    "    return results\n",
    "\n",
    "# Step 7: Use OCR to Extract Ingredients from Image\n",
    "def extract_text_from_image(image_path):\n",
    "    img = cv2.imread(image_path)\n",
    "    img_gray = cv2.cvtColor(img, cv2.COLOR_BGR2GRAY)\n",
    "    text = pytesseract.image_to_string(img_gray)\n",
    "    return text\n",
    "\n",
    "# Step 8: Full Pipeline for Image Upload and Classification\n",
    "def halal_check(image_path):\n",
    "    text = extract_text_from_image(image_path)\n",
    "    print(\"Extracted Text:\", text)\n",
    "    classification_results = classify_ingredients(text)\n",
    "    for ingredient, status in classification_results:\n",
    "        print(f\"Ingredient: {ingredient}, Status: {status}\")"
   ]
  },
  {
   "cell_type": "code",
   "execution_count": 18,
   "metadata": {},
   "outputs": [],
   "source": [
    "# Set the path to the Tesseract executable\n",
    "pytesseract.pytesseract.tesseract_cmd = r'C:\\Users\\USER\\AppData\\Local\\Programs\\Tesseract-OCR\\tesseract.exe'\n"
   ]
  },
  {
   "cell_type": "code",
   "execution_count": 19,
   "metadata": {},
   "outputs": [
    {
     "name": "stdout",
     "output_type": "stream",
     "text": [
      "Extracted Text: Pate\n",
      "\n",
      "Ingredients CON R F\n",
      "\n",
      "Pork jowl (without skin) 15 15 15\n",
      "\n",
      "Pork shoulder 55 35 35\n",
      "\n",
      "Pork liver 10 10 10\n",
      "\n",
      "Broth 18 18 18\n",
      "\n",
      "Roe - 20 -\n",
      "\n",
      "Fish meat - - 20\n",
      "Sodium chloride 13\n",
      "Black pepper 0.15\n",
      "Herbal pepper 0.25\n",
      "Marjoram 0.15\n",
      "Nutmeg 0.15\n",
      "\n",
      "Ingredient: pate, Status: Halal\n",
      "Ingredient: ingredients con r f, Status: Halal\n",
      "Ingredient: pork jowl (without skin) 15 15 15, Status: Haram\n",
      "Ingredient: pork shoulder 55 35 35, Status: Haram\n",
      "Ingredient: pork liver 10 10 10, Status: Haram\n",
      "Ingredient: broth 18 18 18, Status: Halal\n",
      "Ingredient: roe - 20 -, Status: Halal\n",
      "Ingredient: fish meat - - 20, Status: Halal\n",
      "Ingredient: sodium chloride 13, Status: Halal\n",
      "Ingredient: black pepper 0.15, Status: Halal\n",
      "Ingredient: herbal pepper 0.25, Status: Halal\n",
      "Ingredient: marjoram 0.15, Status: Halal\n",
      "Ingredient: nutmeg 0.15, Status: Halal\n"
     ]
    }
   ],
   "source": [
    "# Example Usage\n",
    "image_path = 'haram1.png'  # Replace with your image path\n",
    "halal_check(image_path)\n"
   ]
  }
 ],
 "metadata": {
  "kernelspec": {
   "display_name": "Python 3",
   "language": "python",
   "name": "python3"
  },
  "language_info": {
   "codemirror_mode": {
    "name": "ipython",
    "version": 3
   },
   "file_extension": ".py",
   "mimetype": "text/x-python",
   "name": "python",
   "nbconvert_exporter": "python",
   "pygments_lexer": "ipython3",
   "version": "3.12.3"
  }
 },
 "nbformat": 4,
 "nbformat_minor": 2
}
